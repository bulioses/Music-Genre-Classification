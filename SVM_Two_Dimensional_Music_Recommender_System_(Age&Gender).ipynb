{
  "nbformat": 4,
  "nbformat_minor": 0,
  "metadata": {
    "colab": {
      "provenance": [],
      "gpuType": "T4",
      "mount_file_id": "10drWqhj_oFDYCvTQN-w_sKfUWCatk6NW",
      "authorship_tag": "ABX9TyNRDOe9PWgUZCu7pjqlGoEM",
      "include_colab_link": true
    },
    "kernelspec": {
      "name": "python3",
      "display_name": "Python 3"
    },
    "language_info": {
      "name": "python"
    },
    "accelerator": "GPU"
  },
  "cells": [
    {
      "cell_type": "markdown",
      "metadata": {
        "id": "view-in-github",
        "colab_type": "text"
      },
      "source": [
        "<a href=\"https://colab.research.google.com/github/bulioses/Music-Genre-Classification/blob/main/SVM_Two_Dimensional_Music_Recommender_System_(Age%26Gender).ipynb\" target=\"_parent\"><img src=\"https://colab.research.google.com/assets/colab-badge.svg\" alt=\"Open In Colab\"/></a>"
      ]
    },
    {
      "cell_type": "code",
      "execution_count": null,
      "metadata": {
        "id": "zcHTTQ0mbEj4"
      },
      "outputs": [],
      "source": [
        "#Two Dimensional Music Recommender System SVM"
      ]
    },
    {
      "cell_type": "code",
      "source": [
        "#import google drive\n",
        "from google.colab import drive\n",
        "drive.mount('/content/gdrive')"
      ],
      "metadata": {
        "colab": {
          "base_uri": "https://localhost:8080/"
        },
        "id": "m_0tIvhnbfYR",
        "outputId": "df129306-5b87-4406-c1df-807703f77f0f"
      },
      "execution_count": 2,
      "outputs": [
        {
          "output_type": "stream",
          "name": "stdout",
          "text": [
            "Mounted at /content/gdrive\n"
          ]
        }
      ]
    },
    {
      "cell_type": "code",
      "source": [
        "import os\n",
        "import librosa\n",
        "import numpy as np\n",
        "import pandas as pd"
      ],
      "metadata": {
        "id": "qD9TxiHabfQQ"
      },
      "execution_count": null,
      "outputs": []
    },
    {
      "cell_type": "code",
      "source": [
        "# Function to extract features from an audio file\n",
        "def extract_features(file_name):\n",
        "    try:\n",
        "        audio_data, sample_rate = librosa.load(file_name, res_type='kaiser_fast')\n",
        "\n",
        "        # Extract MFCCs\n",
        "        mfccs = librosa.feature.mfcc(y=audio_data, sr=sample_rate, n_mfcc=40)\n",
        "        mfccs_scaled = np.mean(mfccs.T, axis=0)\n",
        "\n",
        "        # Extract Chroma features\n",
        "        stft = np.abs(librosa.stft(audio_data))\n",
        "        chroma = librosa.feature.chroma_stft(S=stft, sr=sample_rate)\n",
        "        chroma_scaled = np.mean(chroma.T, axis=0)\n",
        "\n",
        "        # Extract Zero Crossing Rate\n",
        "        zero_crossing_rate = librosa.feature.zero_crossing_rate(audio_data)\n",
        "        zcr_scaled = np.mean(zero_crossing_rate.T, axis=0)\n",
        "\n",
        "        # Extract Spectral Roll-off\n",
        "        spectral_rolloff = librosa.feature.spectral_rolloff(y=audio_data, sr=sample_rate)\n",
        "        rolloff_scaled = np.mean(spectral_rolloff.T, axis=0)\n",
        "\n",
        "        # Extract Tempo\n",
        "        tempo, _ = librosa.beat.beat_track(y=audio_data, sr=sample_rate)\n",
        "\n",
        "        # Combine all features into a single array\n",
        "        features = np.hstack([mfccs_scaled, chroma_scaled, zcr_scaled, rolloff_scaled, tempo])\n",
        "    except Exception as e:\n",
        "        print(f\"Error encountered while parsing file: {file_name}\")\n",
        "        return None\n",
        "    return features"
      ],
      "metadata": {
        "id": "bCTFI8LxbfNo"
      },
      "execution_count": null,
      "outputs": []
    },
    {
      "cell_type": "code",
      "source": [
        "#Path to GTZAN dataset\n",
        "dataset_path = '/content/gdrive/MyDrive/Data/genres_original'"
      ],
      "metadata": {
        "id": "gbR8zRpWbfLQ"
      },
      "execution_count": null,
      "outputs": []
    },
    {
      "cell_type": "code",
      "source": [
        "#Extract features and labels\n",
        "features = []\n",
        "labels = []\n",
        "genres = os.listdir(dataset_path)\n",
        "for genre in genres:\n",
        "    genre_path = os.path.join(dataset_path, genre)\n",
        "    for file_name in os.listdir(genre_path):\n",
        "        file_path = os.path.join(genre_path, file_name)\n",
        "        feature_set = extract_features(file_path)\n",
        "        if feature_set is not None:\n",
        "            features.append(feature_set)\n",
        "            labels.append(genre)"
      ],
      "metadata": {
        "colab": {
          "base_uri": "https://localhost:8080/"
        },
        "id": "bEDD_x87bfIw",
        "outputId": "5118df2f-b8c7-437b-c9b4-f9724bdb65e8"
      },
      "execution_count": null,
      "outputs": [
        {
          "output_type": "stream",
          "name": "stderr",
          "text": [
            "<ipython-input-3-ac685560dc47>:4: UserWarning: PySoundFile failed. Trying audioread instead.\n",
            "  audio_data, sample_rate = librosa.load(file_name, res_type='kaiser_fast')\n",
            "/usr/local/lib/python3.10/dist-packages/librosa/core/audio.py:184: FutureWarning: librosa.core.audio.__audioread_load\n",
            "\tDeprecated as of librosa version 0.10.0.\n",
            "\tIt will be removed in librosa version 1.0.\n",
            "  y, sr_native = __audioread_load(path, offset, duration, dtype)\n"
          ]
        },
        {
          "output_type": "stream",
          "name": "stdout",
          "text": [
            "Error encountered while parsing file: /content/gdrive/MyDrive/Data/genres_original/jazz/jazz.00054.wav\n"
          ]
        }
      ]
    },
    {
      "cell_type": "code",
      "source": [
        "# Convert to DataFrame\n",
        "features_df = pd.DataFrame(features)\n",
        "features_df['label'] = labels"
      ],
      "metadata": {
        "id": "A6V7JSPcbfGx"
      },
      "execution_count": null,
      "outputs": []
    },
    {
      "cell_type": "code",
      "source": [
        "#load demograpgic data\n",
        "demographic_data = pd.read_csv('/content/gdrive/MyDrive/Data/preferred_genre_data.csv')\n",
        "\n",
        "# Combing demographic data with audio features\n",
        "combined_df = pd.concat([features_df, demographic_data], axis=1)"
      ],
      "metadata": {
        "id": "YL0I_Z_ibfER"
      },
      "execution_count": null,
      "outputs": []
    },
    {
      "cell_type": "code",
      "source": [
        "from sklearn.preprocessing import LabelEncoder\n",
        "\n",
        "#Encode genre labels\n",
        "le_genre = LabelEncoder()\n",
        "combined_df['label'] = le_genre.fit_transform(combined_df['label'])"
      ],
      "metadata": {
        "id": "iMrmAmB0bfCB"
      },
      "execution_count": null,
      "outputs": []
    },
    {
      "cell_type": "code",
      "source": [
        "#Encode gender\n",
        "le_gender = LabelEncoder()\n",
        "combined_df['gender'] = le_gender.fit_transform(combined_df['gender'])"
      ],
      "metadata": {
        "id": "191yHZRebe_6"
      },
      "execution_count": null,
      "outputs": []
    },
    {
      "cell_type": "code",
      "source": [
        "from sklearn.impute import SimpleImputer\n",
        "\n",
        "# Create an imputer to replace missing values with the most frequent value\n",
        "imputer = SimpleImputer(strategy='most_frequent')\n",
        "\n",
        "# Fit the imputer to the 'preferred_genre' column and transform it\n",
        "combined_df['preferred_genre'] = imputer.fit_transform(combined_df[['preferred_genre']])[:, 0]\n",
        "\n",
        "#Encode preferred genre\n",
        "combined_df['preferred_genre'] = le_genre.transform(combined_df['preferred_genre'])"
      ],
      "metadata": {
        "id": "aGRp6PjZbe9x"
      },
      "execution_count": null,
      "outputs": []
    },
    {
      "cell_type": "code",
      "source": [
        "#Combine features and demographic data\n",
        "X = combined_df.drop(columns=['label'])\n",
        "y = combined_df['label'].values"
      ],
      "metadata": {
        "id": "Za5ZUTKube7a"
      },
      "execution_count": null,
      "outputs": []
    },
    {
      "cell_type": "code",
      "source": [
        "from sklearn.model_selection import train_test_split\n",
        "X_train, X_test, y_train, y_test = train_test_split(X, y, test_size=0.2, random_state=42)"
      ],
      "metadata": {
        "id": "DSzCQ9k5be5Y"
      },
      "execution_count": null,
      "outputs": []
    },
    {
      "cell_type": "code",
      "source": [
        "from sklearn.svm import SVC\n",
        "from sklearn.metrics import accuracy_score, confusion_matrix, classification_report\n",
        "import seaborn as sns\n",
        "import matplotlib.pyplot as plt"
      ],
      "metadata": {
        "id": "AkbtjEVpbe3J"
      },
      "execution_count": null,
      "outputs": []
    },
    {
      "cell_type": "code",
      "source": [
        "from sklearn.impute import SimpleImputer\n",
        "\n",
        "# Create an imputer to replace missing values with the most frequent value\n",
        "imputer = SimpleImputer(strategy='most_frequent')\n",
        "\n",
        "# Convert column names to strings before fitting the imputer\n",
        "X_train.columns = X_train.columns.astype(str)\n",
        "X_test.columns = X_test.columns.astype(str)\n",
        "\n",
        "# Fit the imputer to ALL columns and transform the entire DataFrame\n",
        "X_train = pd.DataFrame(imputer.fit_transform(X_train), columns=X_train.columns)\n",
        "X_test = pd.DataFrame(imputer.transform(X_test), columns=X_test.columns) # Use transform on test data"
      ],
      "metadata": {
        "id": "Sbogi2zzbe1B"
      },
      "execution_count": null,
      "outputs": []
    },
    {
      "cell_type": "code",
      "source": [
        "# Train the SVM classifier\n",
        "svm_clf = SVC(kernel='linear', probability=True)\n",
        "svm_clf.fit(X_train, y_train)"
      ],
      "metadata": {
        "colab": {
          "base_uri": "https://localhost:8080/",
          "height": 74
        },
        "id": "xvV74oLjbezA",
        "outputId": "b349910c-b8da-441c-fe67-d2488c39d93c"
      },
      "execution_count": null,
      "outputs": [
        {
          "output_type": "execute_result",
          "data": {
            "text/plain": [
              "SVC(kernel='linear', probability=True)"
            ],
            "text/html": [
              "<style>#sk-container-id-1 {color: black;background-color: white;}#sk-container-id-1 pre{padding: 0;}#sk-container-id-1 div.sk-toggleable {background-color: white;}#sk-container-id-1 label.sk-toggleable__label {cursor: pointer;display: block;width: 100%;margin-bottom: 0;padding: 0.3em;box-sizing: border-box;text-align: center;}#sk-container-id-1 label.sk-toggleable__label-arrow:before {content: \"▸\";float: left;margin-right: 0.25em;color: #696969;}#sk-container-id-1 label.sk-toggleable__label-arrow:hover:before {color: black;}#sk-container-id-1 div.sk-estimator:hover label.sk-toggleable__label-arrow:before {color: black;}#sk-container-id-1 div.sk-toggleable__content {max-height: 0;max-width: 0;overflow: hidden;text-align: left;background-color: #f0f8ff;}#sk-container-id-1 div.sk-toggleable__content pre {margin: 0.2em;color: black;border-radius: 0.25em;background-color: #f0f8ff;}#sk-container-id-1 input.sk-toggleable__control:checked~div.sk-toggleable__content {max-height: 200px;max-width: 100%;overflow: auto;}#sk-container-id-1 input.sk-toggleable__control:checked~label.sk-toggleable__label-arrow:before {content: \"▾\";}#sk-container-id-1 div.sk-estimator input.sk-toggleable__control:checked~label.sk-toggleable__label {background-color: #d4ebff;}#sk-container-id-1 div.sk-label input.sk-toggleable__control:checked~label.sk-toggleable__label {background-color: #d4ebff;}#sk-container-id-1 input.sk-hidden--visually {border: 0;clip: rect(1px 1px 1px 1px);clip: rect(1px, 1px, 1px, 1px);height: 1px;margin: -1px;overflow: hidden;padding: 0;position: absolute;width: 1px;}#sk-container-id-1 div.sk-estimator {font-family: monospace;background-color: #f0f8ff;border: 1px dotted black;border-radius: 0.25em;box-sizing: border-box;margin-bottom: 0.5em;}#sk-container-id-1 div.sk-estimator:hover {background-color: #d4ebff;}#sk-container-id-1 div.sk-parallel-item::after {content: \"\";width: 100%;border-bottom: 1px solid gray;flex-grow: 1;}#sk-container-id-1 div.sk-label:hover label.sk-toggleable__label {background-color: #d4ebff;}#sk-container-id-1 div.sk-serial::before {content: \"\";position: absolute;border-left: 1px solid gray;box-sizing: border-box;top: 0;bottom: 0;left: 50%;z-index: 0;}#sk-container-id-1 div.sk-serial {display: flex;flex-direction: column;align-items: center;background-color: white;padding-right: 0.2em;padding-left: 0.2em;position: relative;}#sk-container-id-1 div.sk-item {position: relative;z-index: 1;}#sk-container-id-1 div.sk-parallel {display: flex;align-items: stretch;justify-content: center;background-color: white;position: relative;}#sk-container-id-1 div.sk-item::before, #sk-container-id-1 div.sk-parallel-item::before {content: \"\";position: absolute;border-left: 1px solid gray;box-sizing: border-box;top: 0;bottom: 0;left: 50%;z-index: -1;}#sk-container-id-1 div.sk-parallel-item {display: flex;flex-direction: column;z-index: 1;position: relative;background-color: white;}#sk-container-id-1 div.sk-parallel-item:first-child::after {align-self: flex-end;width: 50%;}#sk-container-id-1 div.sk-parallel-item:last-child::after {align-self: flex-start;width: 50%;}#sk-container-id-1 div.sk-parallel-item:only-child::after {width: 0;}#sk-container-id-1 div.sk-dashed-wrapped {border: 1px dashed gray;margin: 0 0.4em 0.5em 0.4em;box-sizing: border-box;padding-bottom: 0.4em;background-color: white;}#sk-container-id-1 div.sk-label label {font-family: monospace;font-weight: bold;display: inline-block;line-height: 1.2em;}#sk-container-id-1 div.sk-label-container {text-align: center;}#sk-container-id-1 div.sk-container {/* jupyter's `normalize.less` sets `[hidden] { display: none; }` but bootstrap.min.css set `[hidden] { display: none !important; }` so we also need the `!important` here to be able to override the default hidden behavior on the sphinx rendered scikit-learn.org. See: https://github.com/scikit-learn/scikit-learn/issues/21755 */display: inline-block !important;position: relative;}#sk-container-id-1 div.sk-text-repr-fallback {display: none;}</style><div id=\"sk-container-id-1\" class=\"sk-top-container\"><div class=\"sk-text-repr-fallback\"><pre>SVC(kernel=&#x27;linear&#x27;, probability=True)</pre><b>In a Jupyter environment, please rerun this cell to show the HTML representation or trust the notebook. <br />On GitHub, the HTML representation is unable to render, please try loading this page with nbviewer.org.</b></div><div class=\"sk-container\" hidden><div class=\"sk-item\"><div class=\"sk-estimator sk-toggleable\"><input class=\"sk-toggleable__control sk-hidden--visually\" id=\"sk-estimator-id-1\" type=\"checkbox\" checked><label for=\"sk-estimator-id-1\" class=\"sk-toggleable__label sk-toggleable__label-arrow\">SVC</label><div class=\"sk-toggleable__content\"><pre>SVC(kernel=&#x27;linear&#x27;, probability=True)</pre></div></div></div></div></div>"
            ]
          },
          "metadata": {},
          "execution_count": 17
        }
      ]
    },
    {
      "cell_type": "code",
      "source": [
        "#Make predictions on the test set\n",
        "y_pred = svm_clf.predict(X_test)"
      ],
      "metadata": {
        "id": "kwsLmMeTbewp"
      },
      "execution_count": null,
      "outputs": []
    },
    {
      "cell_type": "code",
      "source": [
        "# Evaluate the model\n",
        "accuracy = accuracy_score(y_test, y_pred)\n",
        "print(f\"Accuracy: {accuracy}\")\n",
        "print(\"Classification Report:\")\n",
        "print(classification_report(y_test, y_pred, target_names=le_genre.classes_))"
      ],
      "metadata": {
        "colab": {
          "base_uri": "https://localhost:8080/"
        },
        "id": "ZWsmzBHUiMNt",
        "outputId": "8c74b66e-8819-4a55-ced0-09df86e75f37"
      },
      "execution_count": null,
      "outputs": [
        {
          "output_type": "stream",
          "name": "stdout",
          "text": [
            "Accuracy: 0.7373737373737373\n",
            "Classification Report:\n",
            "              precision    recall  f1-score   support\n",
            "\n",
            "       blues       0.52      0.84      0.64        19\n",
            "   classical       0.90      1.00      0.95        19\n",
            "     country       0.91      1.00      0.95        21\n",
            "       disco       0.59      0.54      0.57        24\n",
            "      hiphop       1.00      0.81      0.89        21\n",
            "        jazz       0.75      0.55      0.63        22\n",
            "       metal       0.83      0.71      0.77        14\n",
            "         pop       0.89      0.80      0.84        20\n",
            "      reggae       0.73      0.65      0.69        17\n",
            "        rock       0.48      0.52      0.50        21\n",
            "\n",
            "    accuracy                           0.74       198\n",
            "   macro avg       0.76      0.74      0.74       198\n",
            "weighted avg       0.76      0.74      0.74       198\n",
            "\n"
          ]
        }
      ]
    },
    {
      "cell_type": "code",
      "source": [
        "# Plot confusion matrix\n",
        "cm = confusion_matrix(y_test, y_pred)\n",
        "plt.figure(figsize=(12, 8))\n",
        "sns.heatmap(cm, annot=True, fmt='d', cmap='Blues', xticklabels=le_genre.classes_, yticklabels=le_genre.classes_)\n",
        "plt.xlabel('Predicted')\n",
        "plt.ylabel('Actual')\n",
        "plt.title('Confusion Matrix')\n",
        "plt.show()"
      ],
      "metadata": {
        "colab": {
          "base_uri": "https://localhost:8080/",
          "height": 718
        },
        "id": "Jnfvm4wbiMIW",
        "outputId": "71a08c9b-78e8-4151-f590-9dc9c7b4db19"
      },
      "execution_count": null,
      "outputs": [
        {
          "output_type": "display_data",
          "data": {
            "text/plain": [
              "<Figure size 1200x800 with 2 Axes>"
            ],
            "image/png": "[encoded data removed]"
          },
          "metadata": {}
        }
      ]
    },
    {
      "cell_type": "code",
      "source": [
        "#Recommendation function\n",
        "def recommend_music(age, gender):\n",
        "    # Convert gender to encoded value\n",
        "    gender_encoded = le_gender.transform([gender])[0]\n",
        "    # Create a sample input array with dummy audio features (mean values from the training set)\n",
        "    sample_features = np.mean(X_train, axis=0)[:-3]\n",
        "    # Combine sample features with the provided age, gender, and a dummy preferred genre\n",
        "    sample_input = np.append(sample_features, [age, gender_encoded, 0])  # 0 is a dummy value for preferred_genre\n",
        "    sample_input = sample_input.reshape(1, -1)\n",
        "\n",
        "    # Predict genre\n",
        "    predicted_genre_index = svm_clf.predict(sample_input)[0]\n",
        "    predicted_genre = le_genre.inverse_transform([predicted_genre_index])[0]\n",
        "    return predicted_genre"
      ],
      "metadata": {
        "id": "gNAtkwu0iMA9"
      },
      "execution_count": null,
      "outputs": []
    },
    {
      "cell_type": "code",
      "source": [
        "#Example usage\n",
        "age = 40\n",
        "gender = 'female'\n",
        "predicted_genre = recommend_music(age, gender)\n",
        "print(f\"Predicted genre for a {age} year old {gender}: {predicted_genre}\")"
      ],
      "metadata": {
        "colab": {
          "base_uri": "https://localhost:8080/"
        },
        "id": "8KNTHhebbeuJ",
        "outputId": "9baf32f3-968a-419c-919c-b80c2122c189"
      },
      "execution_count": null,
      "outputs": [
        {
          "output_type": "stream",
          "name": "stdout",
          "text": [
            "Predicted genre for a 40 year old female: country\n"
          ]
        },
        {
          "output_type": "stream",
          "name": "stderr",
          "text": [
            "/usr/local/lib/python3.10/dist-packages/sklearn/base.py:439: UserWarning: X does not have valid feature names, but SVC was fitted with feature names\n",
            "  warnings.warn(\n"
          ]
        }
      ]
    },
    {
      "cell_type": "code",
      "source": [
        "#saving the model\n",
        "import joblib\n",
        "\n",
        "# Save the trained model\n",
        "joblib.dump(svm_clf, 'decision_tree_model.joblib')\n",
        "\n",
        "# Save the genre encoder\n",
        "joblib.dump(le_genre, 'le_genre.joblib')\n",
        "\n",
        "# Save the gender encoder\n",
        "joblib.dump(le_gender, 'le_gender.joblib')"
      ],
      "metadata": {
        "colab": {
          "base_uri": "https://localhost:8080/"
        },
        "id": "J67OPTiHkJSu",
        "outputId": "f4e3d282-5c82-44de-e5f8-1b60d60993b4"
      },
      "execution_count": null,
      "outputs": [
        {
          "output_type": "execute_result",
          "data": {
            "text/plain": [
              "['le_gender.joblib']"
            ]
          },
          "metadata": {},
          "execution_count": 28
        }
      ]
    },
    {
      "cell_type": "code",
      "source": [],
      "metadata": {
        "id": "T9MbUGZ4kJFq"
      },
      "execution_count": null,
      "outputs": []
    }
  ]
}